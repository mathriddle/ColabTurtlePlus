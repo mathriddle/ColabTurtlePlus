{
  "nbformat": 4,
  "nbformat_minor": 0,
  "metadata": {
    "colab": {
      "name": "TolgaAtamExample-class.ipynb",
      "provenance": [],
      "collapsed_sections": [],
      "include_colab_link": true
    },
    "kernelspec": {
      "name": "python3",
      "display_name": "Python 3"
    },
    "language_info": {
      "name": "python"
    }
  },
  "cells": [
    {
      "cell_type": "markdown",
      "metadata": {
        "id": "view-in-github",
        "colab_type": "text"
      },
      "source": [
        "<a href=\"https://colab.research.google.com/github/mathriddle/ColabTurtlePlus/blob/main/examples_version2/files/TolgaAtamExample.ipynb\" target=\"_parent\"><img src=\"https://colab.research.google.com/assets/colab-badge.svg\" alt=\"Open In Colab\"/></a>"
      ]
    },
    {
      "cell_type": "markdown",
      "metadata": {
        "id": "7Yr4QZka0_pd"
      },
      "source": [
        "Tolga Atam's example from the Readme.md file in his ColabTurtle github repository."
      ]
    },
    {
      "cell_type": "code",
      "metadata": {
        "id": "nGffNy-9pN0h"
      },
      "source": [
        "!pip install ColabTurtlePlus"
      ],
      "execution_count": null,
      "outputs": []
    },
    {
      "cell_type": "code",
      "metadata": {
        "id": "53ZusfXeNCnz"
      },
      "source": [
        "from ColabTurtlePlus.Turtle import *"
      ],
      "execution_count": null,
      "outputs": []
    },
    {
      "cell_type": "code",
      "metadata": {
        "id": "HdXnb5H3AY99"
      },
      "source": [
        "oldDefaults()\n",
        "clearscreen()\n",
        "delay(3)  # 3 seconds to give time to scroll down to see start of drawing!\n",
        "color('mediumblue')\n",
        "penup()\n",
        "goto(100, 250)\n",
        "pendown()\n",
        "forward(100)\n",
        "left(90)\n",
        "forward(40)\n",
        "right(180)\n",
        "forward(80)\n",
        "penup()\n",
        "right(90)\n",
        "forward(50)\n",
        "left(90)\n",
        "forward(50)\n",
        "left(90)\n",
        "backward(10)\n",
        "pendown()\n",
        "speed(10)\n",
        "for i in range(18):\n",
        "    forward(17)\n",
        "    right(20)\n",
        "penup()\n",
        "shape('circle')\n",
        "color(230, 90, 120)\n",
        "speed(7)\n",
        "right(90)\n",
        "forward(160)\n",
        "left(90)\n",
        "forward(60)\n",
        "right(180)\n",
        "pendown()\n",
        "forward(100)\n",
        "left(90)\n",
        "forward(80)\n",
        "penup()\n",
        "shape('turtle')\n",
        "forward(50)\n",
        "left(90)\n",
        "forward(40)\n",
        "pendown()\n",
        "for i in range(5):\n",
        "    forward(17)\n",
        "    right(20)\n",
        "left(200)\n",
        "for i in range(13):\n",
        "    forward(17)\n",
        "    left(20)\n",
        "left(90)\n",
        "forward(50)\n",
        "penup()\n",
        "backward(100)\n",
        "left(90)\n",
        "forward(40)\n",
        "pendown()\n",
        "left(155)\n",
        "forward(105)\n",
        "right(130)\n",
        "forward(105)\n",
        "backward(45)\n",
        "right(115)\n",
        "forward(50)\n",
        "bgcolor(\"#efefef\")\n",
        "penup()\n",
        "backward(70)\n",
        "left(90)\n",
        "forward(100)\n",
        "right(90)\n",
        "pencolor('black')\n",
        "pensize(7)\n",
        "pendown()\n",
        "forward(650)\n",
        "left(180)\n",
        "speed(12)\n",
        "for i in range(90):\n",
        "    forward(7)\n",
        "    right(0.2)\n",
        "speed(2)\n",
        "left(18+180)\n",
        "penup()\n",
        "forward(300)\n",
        "setheading(270)\n",
        "write(\"ColabTurtle\", align=\"center\", font=(25, \"Arial\", \"italic\"))\n",
        "color('rgb(70 110 70)')\n",
        "backward(40)"
      ],
      "execution_count": null,
      "outputs": []
    }
  ]
}
